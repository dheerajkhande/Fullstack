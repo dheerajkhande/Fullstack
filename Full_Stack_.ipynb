{
  "nbformat": 4,
  "nbformat_minor": 0,
  "metadata": {
    "colab": {
      "provenance": []
    },
    "kernelspec": {
      "name": "python3",
      "display_name": "Python 3"
    },
    "language_info": {
      "name": "python"
    }
  },
  "cells": [
    {
      "cell_type": "markdown",
      "source": [
        "#Full STACK\n"
      ],
      "metadata": {
        "id": "q0VVQoeBbs1c"
      }
    },
    {
      "cell_type": "code",
      "execution_count": null,
      "metadata": {
        "id": "DGZtuwlHbiLJ"
      },
      "outputs": [],
      "source": []
    },
    {
      "cell_type": "markdown",
      "source": [
        "1. WHAT WAS THE CQUESTION?\n",
        "\n",
        "2. MY SECON QUESTION ?\n",
        "- BCBHBVNFBV FHVHGHG  BVHF"
      ],
      "metadata": {
        "id": "quLcEZ0PcCCv"
      }
    },
    {
      "cell_type": "markdown",
      "source": [],
      "metadata": {
        "id": "uTHlI-yCb0P9"
      }
    },
    {
      "cell_type": "code",
      "source": [
        "#QUESTION\n",
        "\n",
        "'''\n",
        "THIX IS ANSWER\n",
        "\n",
        "\n",
        "'''\n",
        "\n",
        "\"\"\"\n",
        "\n",
        "\"\"\""
      ],
      "metadata": {
        "colab": {
          "base_uri": "https://localhost:8080/",
          "height": 36
        },
        "id": "9gROtWC0csci",
        "outputId": "e4f16ed9-26d1-4d75-c1ca-9ca4e403ea0d"
      },
      "execution_count": 1,
      "outputs": [
        {
          "output_type": "execute_result",
          "data": {
            "text/plain": [
              "'\\nTHIX IS ANSWER\\n\\n\\n'"
            ],
            "application/vnd.google.colaboratory.intrinsic+json": {
              "type": "string"
            }
          },
          "metadata": {},
          "execution_count": 1
        }
      ]
    },
    {
      "cell_type": "code",
      "source": [],
      "metadata": {
        "id": "IJ_YSiUNcz4u"
      },
      "execution_count": 1,
      "outputs": []
    }
  ]
}